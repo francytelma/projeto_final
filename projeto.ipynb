{
 "cells": [
  {
   "cell_type": "code",
   "execution_count": 4,
   "metadata": {},
   "outputs": [],
   "source": [
    "import pandas as pd\n",
    "import matplotlib.pyplot as plt \n",
    "import seaborn as sns\n",
    "import numpy as np"
   ]
  },
  {
   "cell_type": "markdown",
   "metadata": {},
   "source": [
    "## ETL"
   ]
  },
  {
   "cell_type": "code",
   "execution_count": 5,
   "metadata": {},
   "outputs": [
    {
     "data": {
      "text/html": [
       "<div>\n",
       "<style scoped>\n",
       "    .dataframe tbody tr th:only-of-type {\n",
       "        vertical-align: middle;\n",
       "    }\n",
       "\n",
       "    .dataframe tbody tr th {\n",
       "        vertical-align: top;\n",
       "    }\n",
       "\n",
       "    .dataframe thead th {\n",
       "        text-align: right;\n",
       "    }\n",
       "</style>\n",
       "<table border=\"1\" class=\"dataframe\">\n",
       "  <thead>\n",
       "    <tr style=\"text-align: right;\">\n",
       "      <th></th>\n",
       "      <th>id</th>\n",
       "      <th>name</th>\n",
       "      <th>host_id</th>\n",
       "      <th>host_name</th>\n",
       "      <th>neighbourhood_group</th>\n",
       "      <th>neighbourhood</th>\n",
       "      <th>latitude</th>\n",
       "      <th>longitude</th>\n",
       "      <th>room_type</th>\n",
       "      <th>price</th>\n",
       "      <th>minimum_nights</th>\n",
       "      <th>number_of_reviews</th>\n",
       "      <th>last_review</th>\n",
       "      <th>reviews_per_month</th>\n",
       "      <th>calculated_host_listings_count</th>\n",
       "      <th>availability_365</th>\n",
       "      <th>number_of_reviews_ltm</th>\n",
       "      <th>license</th>\n",
       "    </tr>\n",
       "  </thead>\n",
       "  <tbody>\n",
       "    <tr>\n",
       "      <th>0</th>\n",
       "      <td>17878</td>\n",
       "      <td>Very Nice 2Br in Copacabana w. balcony, fast WiFi</td>\n",
       "      <td>68997</td>\n",
       "      <td>Matthias</td>\n",
       "      <td>NaN</td>\n",
       "      <td>Copacabana</td>\n",
       "      <td>-22.96599</td>\n",
       "      <td>-43.17940</td>\n",
       "      <td>Entire home/apt</td>\n",
       "      <td>310.0</td>\n",
       "      <td>5</td>\n",
       "      <td>319</td>\n",
       "      <td>2024-06-08</td>\n",
       "      <td>1.88</td>\n",
       "      <td>1</td>\n",
       "      <td>274</td>\n",
       "      <td>23</td>\n",
       "      <td>NaN</td>\n",
       "    </tr>\n",
       "    <tr>\n",
       "      <th>1</th>\n",
       "      <td>220377</td>\n",
       "      <td>Suíte Casal (banheiro privativo)</td>\n",
       "      <td>1142424</td>\n",
       "      <td>Taciana</td>\n",
       "      <td>NaN</td>\n",
       "      <td>Tijuca</td>\n",
       "      <td>-22.92880</td>\n",
       "      <td>-43.24046</td>\n",
       "      <td>Private room</td>\n",
       "      <td>220.0</td>\n",
       "      <td>1</td>\n",
       "      <td>5</td>\n",
       "      <td>2024-03-28</td>\n",
       "      <td>0.03</td>\n",
       "      <td>3</td>\n",
       "      <td>283</td>\n",
       "      <td>1</td>\n",
       "      <td>NaN</td>\n",
       "    </tr>\n",
       "    <tr>\n",
       "      <th>2</th>\n",
       "      <td>25026</td>\n",
       "      <td>Beautiful Modern Decorated Studio in Copa</td>\n",
       "      <td>102840</td>\n",
       "      <td>Viviane</td>\n",
       "      <td>NaN</td>\n",
       "      <td>Copacabana</td>\n",
       "      <td>-22.97735</td>\n",
       "      <td>-43.19105</td>\n",
       "      <td>Entire home/apt</td>\n",
       "      <td>203.0</td>\n",
       "      <td>2</td>\n",
       "      <td>291</td>\n",
       "      <td>2024-06-02</td>\n",
       "      <td>1.70</td>\n",
       "      <td>1</td>\n",
       "      <td>241</td>\n",
       "      <td>23</td>\n",
       "      <td>NaN</td>\n",
       "    </tr>\n",
       "    <tr>\n",
       "      <th>3</th>\n",
       "      <td>35764</td>\n",
       "      <td>COPACABANA SEA BREEZE  -  RIO - 25  X Superhost</td>\n",
       "      <td>153691</td>\n",
       "      <td>Patricia Miranda &amp; Paulo</td>\n",
       "      <td>NaN</td>\n",
       "      <td>Copacabana</td>\n",
       "      <td>-22.98107</td>\n",
       "      <td>-43.19136</td>\n",
       "      <td>Entire home/apt</td>\n",
       "      <td>201.0</td>\n",
       "      <td>3</td>\n",
       "      <td>476</td>\n",
       "      <td>2024-06-25</td>\n",
       "      <td>2.85</td>\n",
       "      <td>1</td>\n",
       "      <td>93</td>\n",
       "      <td>36</td>\n",
       "      <td>NaN</td>\n",
       "    </tr>\n",
       "    <tr>\n",
       "      <th>4</th>\n",
       "      <td>223073</td>\n",
       "      <td>Modern Loft 1 • Ipanema Posto 9 • 500  mb</td>\n",
       "      <td>503995</td>\n",
       "      <td>❤️ BrUx ❤️</td>\n",
       "      <td>NaN</td>\n",
       "      <td>Ipanema</td>\n",
       "      <td>-22.98280</td>\n",
       "      <td>-43.20467</td>\n",
       "      <td>Entire home/apt</td>\n",
       "      <td>321.0</td>\n",
       "      <td>1</td>\n",
       "      <td>471</td>\n",
       "      <td>2024-06-02</td>\n",
       "      <td>3.04</td>\n",
       "      <td>7</td>\n",
       "      <td>348</td>\n",
       "      <td>17</td>\n",
       "      <td>NaN</td>\n",
       "    </tr>\n",
       "  </tbody>\n",
       "</table>\n",
       "</div>"
      ],
      "text/plain": [
       "       id                                               name  host_id  \\\n",
       "0   17878  Very Nice 2Br in Copacabana w. balcony, fast WiFi    68997   \n",
       "1  220377                   Suíte Casal (banheiro privativo)  1142424   \n",
       "2   25026          Beautiful Modern Decorated Studio in Copa   102840   \n",
       "3   35764    COPACABANA SEA BREEZE  -  RIO - 25  X Superhost   153691   \n",
       "4  223073          Modern Loft 1 • Ipanema Posto 9 • 500  mb   503995   \n",
       "\n",
       "                  host_name  neighbourhood_group neighbourhood  latitude  \\\n",
       "0                  Matthias                  NaN    Copacabana -22.96599   \n",
       "1                   Taciana                  NaN        Tijuca -22.92880   \n",
       "2                   Viviane                  NaN    Copacabana -22.97735   \n",
       "3  Patricia Miranda & Paulo                  NaN    Copacabana -22.98107   \n",
       "4                ❤️ BrUx ❤️                  NaN       Ipanema -22.98280   \n",
       "\n",
       "   longitude        room_type  price  minimum_nights  number_of_reviews  \\\n",
       "0  -43.17940  Entire home/apt  310.0               5                319   \n",
       "1  -43.24046     Private room  220.0               1                  5   \n",
       "2  -43.19105  Entire home/apt  203.0               2                291   \n",
       "3  -43.19136  Entire home/apt  201.0               3                476   \n",
       "4  -43.20467  Entire home/apt  321.0               1                471   \n",
       "\n",
       "  last_review  reviews_per_month  calculated_host_listings_count  \\\n",
       "0  2024-06-08               1.88                               1   \n",
       "1  2024-03-28               0.03                               3   \n",
       "2  2024-06-02               1.70                               1   \n",
       "3  2024-06-25               2.85                               1   \n",
       "4  2024-06-02               3.04                               7   \n",
       "\n",
       "   availability_365  number_of_reviews_ltm  license  \n",
       "0               274                     23      NaN  \n",
       "1               283                      1      NaN  \n",
       "2               241                     23      NaN  \n",
       "3                93                     36      NaN  \n",
       "4               348                     17      NaN  "
      ]
     },
     "execution_count": 5,
     "metadata": {},
     "output_type": "execute_result"
    }
   ],
   "source": [
    "df_dados = pd.read_csv(r\"C:\\Users\\nada_\\OneDrive\\Desktop\\REPROGRAMA\\projetofinal\\listings.csv\")\n",
    "df_dados.head()"
   ]
  },
  {
   "cell_type": "code",
   "execution_count": 6,
   "metadata": {},
   "outputs": [
    {
     "data": {
      "text/plain": [
       "(34664, 18)"
      ]
     },
     "execution_count": 6,
     "metadata": {},
     "output_type": "execute_result"
    }
   ],
   "source": [
    "df_dados.shape "
   ]
  },
  {
   "cell_type": "code",
   "execution_count": 7,
   "metadata": {},
   "outputs": [
    {
     "name": "stdout",
     "output_type": "stream",
     "text": [
      "id                                    0\n",
      "name                                  0\n",
      "host_id                               0\n",
      "host_name                             0\n",
      "neighbourhood_group               34664\n",
      "neighbourhood                         0\n",
      "latitude                              0\n",
      "longitude                             0\n",
      "room_type                             0\n",
      "price                               972\n",
      "minimum_nights                        0\n",
      "number_of_reviews                     0\n",
      "last_review                        8446\n",
      "reviews_per_month                  8446\n",
      "calculated_host_listings_count        0\n",
      "availability_365                      0\n",
      "number_of_reviews_ltm                 0\n",
      "license                           34664\n",
      "dtype: int64\n"
     ]
    }
   ],
   "source": [
    "nulos_por_colunas = df_dados.isnull().sum()\n",
    "print(nulos_por_colunas)"
   ]
  },
  {
   "cell_type": "code",
   "execution_count": 8,
   "metadata": {},
   "outputs": [
    {
     "data": {
      "text/plain": [
       "Index(['id', 'name', 'host_id', 'host_name', 'neighbourhood_group',\n",
       "       'neighbourhood', 'latitude', 'longitude', 'room_type', 'price',\n",
       "       'minimum_nights', 'number_of_reviews', 'last_review',\n",
       "       'reviews_per_month', 'calculated_host_listings_count',\n",
       "       'availability_365', 'number_of_reviews_ltm', 'license'],\n",
       "      dtype='object')"
      ]
     },
     "execution_count": 8,
     "metadata": {},
     "output_type": "execute_result"
    }
   ],
   "source": [
    "df_dados.columns"
   ]
  },
  {
   "cell_type": "code",
   "execution_count": 9,
   "metadata": {},
   "outputs": [],
   "source": [
    "# Substituir NaN pela média de uma coluna price\n",
    "df_dados['price'] = df_dados['price'].fillna(df_dados['price'].mean())\n"
   ]
  },
  {
   "cell_type": "code",
   "execution_count": 10,
   "metadata": {},
   "outputs": [],
   "source": [
    "df_dados = df_dados.drop(columns=[\"neighbourhood_group\",\"license\"])  #apagar colunas do df"
   ]
  },
  {
   "cell_type": "code",
   "execution_count": 11,
   "metadata": {},
   "outputs": [],
   "source": [
    "df_dados = df_dados.fillna(0)  # Substituir NaN por 0\n"
   ]
  },
  {
   "cell_type": "code",
   "execution_count": 12,
   "metadata": {},
   "outputs": [
    {
     "name": "stdout",
     "output_type": "stream",
     "text": [
      "Empty DataFrame\n",
      "Columns: [id, name, host_id, host_name, neighbourhood, latitude, longitude, room_type, price, minimum_nights, number_of_reviews, last_review, reviews_per_month, calculated_host_listings_count, availability_365, number_of_reviews_ltm]\n",
      "Index: []\n"
     ]
    }
   ],
   "source": [
    "def visualizar_as_duplicadas(df_dados):  #função para ver as linhas com informações duplicadas\n",
    "    duplicados = df_dados[df_dados.duplicated(keep=False)]\n",
    "\n",
    "    return duplicados\n",
    "\n",
    "linhas_duplicadas = visualizar_as_duplicadas(df_dados)\n",
    "print (linhas_duplicadas)"
   ]
  },
  {
   "cell_type": "code",
   "execution_count": 13,
   "metadata": {},
   "outputs": [
    {
     "name": "stdout",
     "output_type": "stream",
     "text": [
      "id                                0\n",
      "name                              0\n",
      "host_id                           0\n",
      "host_name                         0\n",
      "neighbourhood                     0\n",
      "latitude                          0\n",
      "longitude                         0\n",
      "room_type                         0\n",
      "price                             0\n",
      "minimum_nights                    0\n",
      "number_of_reviews                 0\n",
      "last_review                       0\n",
      "reviews_per_month                 0\n",
      "calculated_host_listings_count    0\n",
      "availability_365                  0\n",
      "number_of_reviews_ltm             0\n",
      "dtype: int64\n"
     ]
    }
   ],
   "source": [
    "nulos_por_colunas = df_dados.isnull().sum()\n",
    "print(nulos_por_colunas)"
   ]
  },
  {
   "cell_type": "code",
   "execution_count": 14,
   "metadata": {},
   "outputs": [
    {
     "name": "stdout",
     "output_type": "stream",
     "text": [
      "0        0\n",
      "1        0\n",
      "2        0\n",
      "3        0\n",
      "4        0\n",
      "        ..\n",
      "34659    0\n",
      "34660    0\n",
      "34661    0\n",
      "34662    0\n",
      "34663    0\n",
      "Length: 34664, dtype: int64\n"
     ]
    }
   ],
   "source": [
    "nulos_por_linhas = df_dados.isnull().sum(axis=1)  \n",
    "print(nulos_por_linhas)"
   ]
  },
  {
   "cell_type": "code",
   "execution_count": 15,
   "metadata": {},
   "outputs": [
    {
     "name": "stdout",
     "output_type": "stream",
     "text": [
      "<class 'pandas.core.frame.DataFrame'>\n",
      "RangeIndex: 34664 entries, 0 to 34663\n",
      "Data columns (total 16 columns):\n",
      " #   Column                          Non-Null Count  Dtype  \n",
      "---  ------                          --------------  -----  \n",
      " 0   id                              34664 non-null  int64  \n",
      " 1   name                            34664 non-null  object \n",
      " 2   host_id                         34664 non-null  int64  \n",
      " 3   host_name                       34664 non-null  object \n",
      " 4   neighbourhood                   34664 non-null  object \n",
      " 5   latitude                        34664 non-null  float64\n",
      " 6   longitude                       34664 non-null  float64\n",
      " 7   room_type                       34664 non-null  object \n",
      " 8   price                           34664 non-null  float64\n",
      " 9   minimum_nights                  34664 non-null  int64  \n",
      " 10  number_of_reviews               34664 non-null  int64  \n",
      " 11  last_review                     34664 non-null  object \n",
      " 12  reviews_per_month               34664 non-null  float64\n",
      " 13  calculated_host_listings_count  34664 non-null  int64  \n",
      " 14  availability_365                34664 non-null  int64  \n",
      " 15  number_of_reviews_ltm           34664 non-null  int64  \n",
      "dtypes: float64(4), int64(7), object(5)\n",
      "memory usage: 4.2+ MB\n",
      "None\n"
     ]
    }
   ],
   "source": [
    "info_df = df_dados.info()\n",
    "print(info_df)"
   ]
  },
  {
   "cell_type": "code",
   "execution_count": 16,
   "metadata": {},
   "outputs": [
    {
     "data": {
      "text/html": [
       "<div>\n",
       "<style scoped>\n",
       "    .dataframe tbody tr th:only-of-type {\n",
       "        vertical-align: middle;\n",
       "    }\n",
       "\n",
       "    .dataframe tbody tr th {\n",
       "        vertical-align: top;\n",
       "    }\n",
       "\n",
       "    .dataframe thead th {\n",
       "        text-align: right;\n",
       "    }\n",
       "</style>\n",
       "<table border=\"1\" class=\"dataframe\">\n",
       "  <thead>\n",
       "    <tr style=\"text-align: right;\">\n",
       "      <th></th>\n",
       "      <th>id</th>\n",
       "      <th>name</th>\n",
       "      <th>host_id</th>\n",
       "      <th>host_name</th>\n",
       "      <th>neighbourhood</th>\n",
       "      <th>latitude</th>\n",
       "      <th>longitude</th>\n",
       "      <th>room_type</th>\n",
       "      <th>price</th>\n",
       "      <th>minimum_nights</th>\n",
       "      <th>number_of_reviews</th>\n",
       "      <th>last_review</th>\n",
       "      <th>reviews_per_month</th>\n",
       "      <th>calculated_host_listings_count</th>\n",
       "      <th>availability_365</th>\n",
       "      <th>number_of_reviews_ltm</th>\n",
       "    </tr>\n",
       "  </thead>\n",
       "  <tbody>\n",
       "    <tr>\n",
       "      <th>count</th>\n",
       "      <td>3.466400e+04</td>\n",
       "      <td>34664</td>\n",
       "      <td>3.466400e+04</td>\n",
       "      <td>34664</td>\n",
       "      <td>34664</td>\n",
       "      <td>34664.000000</td>\n",
       "      <td>34664.000000</td>\n",
       "      <td>34664</td>\n",
       "      <td>34664.000000</td>\n",
       "      <td>34664.000000</td>\n",
       "      <td>34664.000000</td>\n",
       "      <td>34664.0</td>\n",
       "      <td>34664.000000</td>\n",
       "      <td>34664.000000</td>\n",
       "      <td>34664.000000</td>\n",
       "      <td>34664.000000</td>\n",
       "    </tr>\n",
       "    <tr>\n",
       "      <th>unique</th>\n",
       "      <td>NaN</td>\n",
       "      <td>33021</td>\n",
       "      <td>NaN</td>\n",
       "      <td>6002</td>\n",
       "      <td>152</td>\n",
       "      <td>NaN</td>\n",
       "      <td>NaN</td>\n",
       "      <td>4</td>\n",
       "      <td>NaN</td>\n",
       "      <td>NaN</td>\n",
       "      <td>NaN</td>\n",
       "      <td>1285.0</td>\n",
       "      <td>NaN</td>\n",
       "      <td>NaN</td>\n",
       "      <td>NaN</td>\n",
       "      <td>NaN</td>\n",
       "    </tr>\n",
       "    <tr>\n",
       "      <th>top</th>\n",
       "      <td>NaN</td>\n",
       "      <td>Apartamento em Copacabana</td>\n",
       "      <td>NaN</td>\n",
       "      <td>Daniel</td>\n",
       "      <td>Copacabana</td>\n",
       "      <td>NaN</td>\n",
       "      <td>NaN</td>\n",
       "      <td>Entire home/apt</td>\n",
       "      <td>NaN</td>\n",
       "      <td>NaN</td>\n",
       "      <td>NaN</td>\n",
       "      <td>0.0</td>\n",
       "      <td>NaN</td>\n",
       "      <td>NaN</td>\n",
       "      <td>NaN</td>\n",
       "      <td>NaN</td>\n",
       "    </tr>\n",
       "    <tr>\n",
       "      <th>freq</th>\n",
       "      <td>NaN</td>\n",
       "      <td>116</td>\n",
       "      <td>NaN</td>\n",
       "      <td>348</td>\n",
       "      <td>10783</td>\n",
       "      <td>NaN</td>\n",
       "      <td>NaN</td>\n",
       "      <td>27383</td>\n",
       "      <td>NaN</td>\n",
       "      <td>NaN</td>\n",
       "      <td>NaN</td>\n",
       "      <td>8446.0</td>\n",
       "      <td>NaN</td>\n",
       "      <td>NaN</td>\n",
       "      <td>NaN</td>\n",
       "      <td>NaN</td>\n",
       "    </tr>\n",
       "    <tr>\n",
       "      <th>mean</th>\n",
       "      <td>5.590520e+17</td>\n",
       "      <td>NaN</td>\n",
       "      <td>1.979962e+08</td>\n",
       "      <td>NaN</td>\n",
       "      <td>NaN</td>\n",
       "      <td>-22.967415</td>\n",
       "      <td>-43.248751</td>\n",
       "      <td>NaN</td>\n",
       "      <td>731.188235</td>\n",
       "      <td>3.683360</td>\n",
       "      <td>22.303658</td>\n",
       "      <td>NaN</td>\n",
       "      <td>0.821712</td>\n",
       "      <td>9.070909</td>\n",
       "      <td>203.164695</td>\n",
       "      <td>7.660282</td>\n",
       "    </tr>\n",
       "    <tr>\n",
       "      <th>std</th>\n",
       "      <td>4.785128e+17</td>\n",
       "      <td>NaN</td>\n",
       "      <td>1.898936e+08</td>\n",
       "      <td>NaN</td>\n",
       "      <td>NaN</td>\n",
       "      <td>0.034793</td>\n",
       "      <td>0.099478</td>\n",
       "      <td>NaN</td>\n",
       "      <td>5587.226596</td>\n",
       "      <td>14.203589</td>\n",
       "      <td>44.086305</td>\n",
       "      <td>NaN</td>\n",
       "      <td>1.139377</td>\n",
       "      <td>24.042257</td>\n",
       "      <td>116.524265</td>\n",
       "      <td>12.011221</td>\n",
       "    </tr>\n",
       "    <tr>\n",
       "      <th>min</th>\n",
       "      <td>1.787800e+04</td>\n",
       "      <td>NaN</td>\n",
       "      <td>3.607000e+03</td>\n",
       "      <td>NaN</td>\n",
       "      <td>NaN</td>\n",
       "      <td>-23.073276</td>\n",
       "      <td>-43.723009</td>\n",
       "      <td>NaN</td>\n",
       "      <td>0.000000</td>\n",
       "      <td>1.000000</td>\n",
       "      <td>0.000000</td>\n",
       "      <td>NaN</td>\n",
       "      <td>0.000000</td>\n",
       "      <td>1.000000</td>\n",
       "      <td>0.000000</td>\n",
       "      <td>0.000000</td>\n",
       "    </tr>\n",
       "    <tr>\n",
       "      <th>25%</th>\n",
       "      <td>3.616128e+07</td>\n",
       "      <td>NaN</td>\n",
       "      <td>2.714992e+07</td>\n",
       "      <td>NaN</td>\n",
       "      <td>NaN</td>\n",
       "      <td>-22.984610</td>\n",
       "      <td>-43.303282</td>\n",
       "      <td>NaN</td>\n",
       "      <td>200.000000</td>\n",
       "      <td>1.000000</td>\n",
       "      <td>1.000000</td>\n",
       "      <td>NaN</td>\n",
       "      <td>0.020000</td>\n",
       "      <td>1.000000</td>\n",
       "      <td>90.000000</td>\n",
       "      <td>0.000000</td>\n",
       "    </tr>\n",
       "    <tr>\n",
       "      <th>50%</th>\n",
       "      <td>7.271246e+17</td>\n",
       "      <td>NaN</td>\n",
       "      <td>1.130967e+08</td>\n",
       "      <td>NaN</td>\n",
       "      <td>NaN</td>\n",
       "      <td>-22.972840</td>\n",
       "      <td>-43.194384</td>\n",
       "      <td>NaN</td>\n",
       "      <td>320.000000</td>\n",
       "      <td>2.000000</td>\n",
       "      <td>5.000000</td>\n",
       "      <td>NaN</td>\n",
       "      <td>0.360000</td>\n",
       "      <td>2.000000</td>\n",
       "      <td>190.000000</td>\n",
       "      <td>2.000000</td>\n",
       "    </tr>\n",
       "    <tr>\n",
       "      <th>75%</th>\n",
       "      <td>1.027123e+18</td>\n",
       "      <td>NaN</td>\n",
       "      <td>3.710267e+08</td>\n",
       "      <td>NaN</td>\n",
       "      <td>NaN</td>\n",
       "      <td>-22.956465</td>\n",
       "      <td>-43.185429</td>\n",
       "      <td>NaN</td>\n",
       "      <td>608.000000</td>\n",
       "      <td>3.000000</td>\n",
       "      <td>24.000000</td>\n",
       "      <td>NaN</td>\n",
       "      <td>1.160000</td>\n",
       "      <td>5.000000</td>\n",
       "      <td>320.000000</td>\n",
       "      <td>10.000000</td>\n",
       "    </tr>\n",
       "    <tr>\n",
       "      <th>max</th>\n",
       "      <td>1.187209e+18</td>\n",
       "      <td>NaN</td>\n",
       "      <td>5.856746e+08</td>\n",
       "      <td>NaN</td>\n",
       "      <td>NaN</td>\n",
       "      <td>-22.749950</td>\n",
       "      <td>-43.104400</td>\n",
       "      <td>NaN</td>\n",
       "      <td>633125.000000</td>\n",
       "      <td>1000.000000</td>\n",
       "      <td>674.000000</td>\n",
       "      <td>NaN</td>\n",
       "      <td>16.960000</td>\n",
       "      <td>200.000000</td>\n",
       "      <td>365.000000</td>\n",
       "      <td>132.000000</td>\n",
       "    </tr>\n",
       "  </tbody>\n",
       "</table>\n",
       "</div>"
      ],
      "text/plain": [
       "                  id                       name       host_id host_name  \\\n",
       "count   3.466400e+04                      34664  3.466400e+04     34664   \n",
       "unique           NaN                      33021           NaN      6002   \n",
       "top              NaN  Apartamento em Copacabana           NaN    Daniel   \n",
       "freq             NaN                        116           NaN       348   \n",
       "mean    5.590520e+17                        NaN  1.979962e+08       NaN   \n",
       "std     4.785128e+17                        NaN  1.898936e+08       NaN   \n",
       "min     1.787800e+04                        NaN  3.607000e+03       NaN   \n",
       "25%     3.616128e+07                        NaN  2.714992e+07       NaN   \n",
       "50%     7.271246e+17                        NaN  1.130967e+08       NaN   \n",
       "75%     1.027123e+18                        NaN  3.710267e+08       NaN   \n",
       "max     1.187209e+18                        NaN  5.856746e+08       NaN   \n",
       "\n",
       "       neighbourhood      latitude     longitude        room_type  \\\n",
       "count          34664  34664.000000  34664.000000            34664   \n",
       "unique           152           NaN           NaN                4   \n",
       "top       Copacabana           NaN           NaN  Entire home/apt   \n",
       "freq           10783           NaN           NaN            27383   \n",
       "mean             NaN    -22.967415    -43.248751              NaN   \n",
       "std              NaN      0.034793      0.099478              NaN   \n",
       "min              NaN    -23.073276    -43.723009              NaN   \n",
       "25%              NaN    -22.984610    -43.303282              NaN   \n",
       "50%              NaN    -22.972840    -43.194384              NaN   \n",
       "75%              NaN    -22.956465    -43.185429              NaN   \n",
       "max              NaN    -22.749950    -43.104400              NaN   \n",
       "\n",
       "                price  minimum_nights  number_of_reviews  last_review  \\\n",
       "count    34664.000000    34664.000000       34664.000000      34664.0   \n",
       "unique            NaN             NaN                NaN       1285.0   \n",
       "top               NaN             NaN                NaN          0.0   \n",
       "freq              NaN             NaN                NaN       8446.0   \n",
       "mean       731.188235        3.683360          22.303658          NaN   \n",
       "std       5587.226596       14.203589          44.086305          NaN   \n",
       "min          0.000000        1.000000           0.000000          NaN   \n",
       "25%        200.000000        1.000000           1.000000          NaN   \n",
       "50%        320.000000        2.000000           5.000000          NaN   \n",
       "75%        608.000000        3.000000          24.000000          NaN   \n",
       "max     633125.000000     1000.000000         674.000000          NaN   \n",
       "\n",
       "        reviews_per_month  calculated_host_listings_count  availability_365  \\\n",
       "count        34664.000000                    34664.000000      34664.000000   \n",
       "unique                NaN                             NaN               NaN   \n",
       "top                   NaN                             NaN               NaN   \n",
       "freq                  NaN                             NaN               NaN   \n",
       "mean             0.821712                        9.070909        203.164695   \n",
       "std              1.139377                       24.042257        116.524265   \n",
       "min              0.000000                        1.000000          0.000000   \n",
       "25%              0.020000                        1.000000         90.000000   \n",
       "50%              0.360000                        2.000000        190.000000   \n",
       "75%              1.160000                        5.000000        320.000000   \n",
       "max             16.960000                      200.000000        365.000000   \n",
       "\n",
       "        number_of_reviews_ltm  \n",
       "count            34664.000000  \n",
       "unique                    NaN  \n",
       "top                       NaN  \n",
       "freq                      NaN  \n",
       "mean                 7.660282  \n",
       "std                 12.011221  \n",
       "min                  0.000000  \n",
       "25%                  0.000000  \n",
       "50%                  2.000000  \n",
       "75%                 10.000000  \n",
       "max                132.000000  "
      ]
     },
     "execution_count": 16,
     "metadata": {},
     "output_type": "execute_result"
    }
   ],
   "source": [
    "df_dados.describe(include='all')"
   ]
  },
  {
   "cell_type": "code",
   "execution_count": 17,
   "metadata": {},
   "outputs": [
    {
     "data": {
      "text/plain": [
       "id                                34664\n",
       "name                              33021\n",
       "host_id                           20772\n",
       "host_name                          6002\n",
       "neighbourhood                       152\n",
       "latitude                          21554\n",
       "longitude                         22985\n",
       "room_type                             4\n",
       "price                              2016\n",
       "minimum_nights                       61\n",
       "number_of_reviews                   383\n",
       "last_review                        1285\n",
       "reviews_per_month                   700\n",
       "calculated_host_listings_count       59\n",
       "availability_365                    366\n",
       "number_of_reviews_ltm               109\n",
       "dtype: int64"
      ]
     },
     "execution_count": 17,
     "metadata": {},
     "output_type": "execute_result"
    }
   ],
   "source": [
    "df_dados.nunique()"
   ]
  },
  {
   "cell_type": "code",
   "execution_count": 18,
   "metadata": {},
   "outputs": [],
   "source": [
    "# renomear as colunas\n",
    "df_dados.rename(columns={              \n",
    "'name':'Nome',                           \n",
    "'host_id': 'Id do host',                          \n",
    "'host_name': 'Nome do host',                        \n",
    "'neighbourhood': 'Bairro',                       \n",
    "'latitude': 'Latitude',                        \n",
    "'longitude': 'Longitude',                      \n",
    "'room_type': 'Tipo de acomodação',                           \n",
    "'price':'Preço',                              \n",
    "'minimum_nights':'Minimo de noites',                       \n",
    "'number_of_reviews':'Numeros de avaliações',                   \n",
    "'last_review':'Ultima avaliação',                      \n",
    "'reviews_per_month':'Avaliações mensais',                   \n",
    "'calculated_host_listings_count':'Listagens', \n",
    "'availability_365':'Disponibilidade anual',                   \n",
    "'number_of_reviews_ltm':'Numero de avaliações anuais' \n",
    "}, inplace=True)"
   ]
  },
  {
   "cell_type": "code",
   "execution_count": 19,
   "metadata": {},
   "outputs": [
    {
     "data": {
      "text/plain": [
       "Index(['id', 'Nome', 'Id do host', 'Nome do host', 'Bairro', 'Latitude',\n",
       "       'Longitude', 'Tipo de acomodação', 'Preço', 'Minimo de noites',\n",
       "       'Numeros de avaliações', 'Ultima avaliação', 'Avaliações mensais',\n",
       "       'Listagens', 'Disponibilidade anual', 'Numero de avaliações anuais'],\n",
       "      dtype='object')"
      ]
     },
     "execution_count": 19,
     "metadata": {},
     "output_type": "execute_result"
    }
   ],
   "source": [
    "df_dados.columns"
   ]
  },
  {
   "cell_type": "code",
   "execution_count": 20,
   "metadata": {},
   "outputs": [],
   "source": [
    "# Arredondar apenas a 'Preço' para 1 casa decimal\n",
    "df_dados['Preço'] = df_dados['Preço'].round(1)\n",
    "\n"
   ]
  },
  {
   "cell_type": "code",
   "execution_count": 21,
   "metadata": {},
   "outputs": [],
   "source": [
    "# Arredondar para baixo valores iguais a 731.2 na coluna 'Preço'\n",
    "df_dados['Preço'] = df_dados['Preço'].apply(lambda x: np.floor(x) if x == 731.2 else x)\n"
   ]
  },
  {
   "cell_type": "code",
   "execution_count": 22,
   "metadata": {},
   "outputs": [
    {
     "data": {
      "text/plain": [
       "0        310.0\n",
       "1        220.0\n",
       "2        203.0\n",
       "3        201.0\n",
       "4        321.0\n",
       "         ...  \n",
       "34659    138.0\n",
       "34660    800.0\n",
       "34661    265.0\n",
       "34662    260.0\n",
       "34663    250.0\n",
       "Name: Preço, Length: 34664, dtype: float64"
      ]
     },
     "execution_count": 22,
     "metadata": {},
     "output_type": "execute_result"
    }
   ],
   "source": [
    "df_dados['Preço'].round(0)"
   ]
  },
  {
   "cell_type": "code",
   "execution_count": 23,
   "metadata": {},
   "outputs": [
    {
     "data": {
      "text/html": [
       "<div>\n",
       "<style scoped>\n",
       "    .dataframe tbody tr th:only-of-type {\n",
       "        vertical-align: middle;\n",
       "    }\n",
       "\n",
       "    .dataframe tbody tr th {\n",
       "        vertical-align: top;\n",
       "    }\n",
       "\n",
       "    .dataframe thead th {\n",
       "        text-align: right;\n",
       "    }\n",
       "</style>\n",
       "<table border=\"1\" class=\"dataframe\">\n",
       "  <thead>\n",
       "    <tr style=\"text-align: right;\">\n",
       "      <th></th>\n",
       "      <th>id</th>\n",
       "      <th>Nome</th>\n",
       "      <th>Id do host</th>\n",
       "      <th>Nome do host</th>\n",
       "      <th>Bairro</th>\n",
       "      <th>Latitude</th>\n",
       "      <th>Longitude</th>\n",
       "      <th>Tipo de acomodação</th>\n",
       "      <th>Preço</th>\n",
       "      <th>Minimo de noites</th>\n",
       "      <th>Numeros de avaliações</th>\n",
       "      <th>Ultima avaliação</th>\n",
       "      <th>Avaliações mensais</th>\n",
       "      <th>Listagens</th>\n",
       "      <th>Disponibilidade anual</th>\n",
       "      <th>Numero de avaliações anuais</th>\n",
       "    </tr>\n",
       "  </thead>\n",
       "  <tbody>\n",
       "    <tr>\n",
       "      <th>0</th>\n",
       "      <td>17878</td>\n",
       "      <td>Very Nice 2Br in Copacabana w. balcony, fast WiFi</td>\n",
       "      <td>68997</td>\n",
       "      <td>Matthias</td>\n",
       "      <td>Copacabana</td>\n",
       "      <td>-22.96599</td>\n",
       "      <td>-43.17940</td>\n",
       "      <td>Entire home/apt</td>\n",
       "      <td>310.0</td>\n",
       "      <td>5</td>\n",
       "      <td>319</td>\n",
       "      <td>2024-06-08</td>\n",
       "      <td>1.88</td>\n",
       "      <td>1</td>\n",
       "      <td>274</td>\n",
       "      <td>23</td>\n",
       "    </tr>\n",
       "    <tr>\n",
       "      <th>1</th>\n",
       "      <td>220377</td>\n",
       "      <td>Suíte Casal (banheiro privativo)</td>\n",
       "      <td>1142424</td>\n",
       "      <td>Taciana</td>\n",
       "      <td>Tijuca</td>\n",
       "      <td>-22.92880</td>\n",
       "      <td>-43.24046</td>\n",
       "      <td>Private room</td>\n",
       "      <td>220.0</td>\n",
       "      <td>1</td>\n",
       "      <td>5</td>\n",
       "      <td>2024-03-28</td>\n",
       "      <td>0.03</td>\n",
       "      <td>3</td>\n",
       "      <td>283</td>\n",
       "      <td>1</td>\n",
       "    </tr>\n",
       "    <tr>\n",
       "      <th>2</th>\n",
       "      <td>25026</td>\n",
       "      <td>Beautiful Modern Decorated Studio in Copa</td>\n",
       "      <td>102840</td>\n",
       "      <td>Viviane</td>\n",
       "      <td>Copacabana</td>\n",
       "      <td>-22.97735</td>\n",
       "      <td>-43.19105</td>\n",
       "      <td>Entire home/apt</td>\n",
       "      <td>203.0</td>\n",
       "      <td>2</td>\n",
       "      <td>291</td>\n",
       "      <td>2024-06-02</td>\n",
       "      <td>1.70</td>\n",
       "      <td>1</td>\n",
       "      <td>241</td>\n",
       "      <td>23</td>\n",
       "    </tr>\n",
       "    <tr>\n",
       "      <th>3</th>\n",
       "      <td>35764</td>\n",
       "      <td>COPACABANA SEA BREEZE  -  RIO - 25  X Superhost</td>\n",
       "      <td>153691</td>\n",
       "      <td>Patricia Miranda &amp; Paulo</td>\n",
       "      <td>Copacabana</td>\n",
       "      <td>-22.98107</td>\n",
       "      <td>-43.19136</td>\n",
       "      <td>Entire home/apt</td>\n",
       "      <td>201.0</td>\n",
       "      <td>3</td>\n",
       "      <td>476</td>\n",
       "      <td>2024-06-25</td>\n",
       "      <td>2.85</td>\n",
       "      <td>1</td>\n",
       "      <td>93</td>\n",
       "      <td>36</td>\n",
       "    </tr>\n",
       "    <tr>\n",
       "      <th>4</th>\n",
       "      <td>223073</td>\n",
       "      <td>Modern Loft 1 • Ipanema Posto 9 • 500  mb</td>\n",
       "      <td>503995</td>\n",
       "      <td>❤️ BrUx ❤️</td>\n",
       "      <td>Ipanema</td>\n",
       "      <td>-22.98280</td>\n",
       "      <td>-43.20467</td>\n",
       "      <td>Entire home/apt</td>\n",
       "      <td>321.0</td>\n",
       "      <td>1</td>\n",
       "      <td>471</td>\n",
       "      <td>2024-06-02</td>\n",
       "      <td>3.04</td>\n",
       "      <td>7</td>\n",
       "      <td>348</td>\n",
       "      <td>17</td>\n",
       "    </tr>\n",
       "    <tr>\n",
       "      <th>...</th>\n",
       "      <td>...</td>\n",
       "      <td>...</td>\n",
       "      <td>...</td>\n",
       "      <td>...</td>\n",
       "      <td>...</td>\n",
       "      <td>...</td>\n",
       "      <td>...</td>\n",
       "      <td>...</td>\n",
       "      <td>...</td>\n",
       "      <td>...</td>\n",
       "      <td>...</td>\n",
       "      <td>...</td>\n",
       "      <td>...</td>\n",
       "      <td>...</td>\n",
       "      <td>...</td>\n",
       "      <td>...</td>\n",
       "    </tr>\n",
       "    <tr>\n",
       "      <th>57</th>\n",
       "      <td>99971</td>\n",
       "      <td>Right in front of the beach in Rio!</td>\n",
       "      <td>525976</td>\n",
       "      <td>Ricardo</td>\n",
       "      <td>Leblon</td>\n",
       "      <td>-22.98812</td>\n",
       "      <td>-43.22897</td>\n",
       "      <td>Entire home/apt</td>\n",
       "      <td>273.0</td>\n",
       "      <td>3</td>\n",
       "      <td>165</td>\n",
       "      <td>2024-04-29</td>\n",
       "      <td>1.05</td>\n",
       "      <td>1</td>\n",
       "      <td>327</td>\n",
       "      <td>23</td>\n",
       "    </tr>\n",
       "    <tr>\n",
       "      <th>58</th>\n",
       "      <td>274116</td>\n",
       "      <td>Comfortable apart in Santa Teresa - Rio de Jan...</td>\n",
       "      <td>1433502</td>\n",
       "      <td>Norberto</td>\n",
       "      <td>Santa Teresa</td>\n",
       "      <td>-22.91984</td>\n",
       "      <td>-43.18650</td>\n",
       "      <td>Entire home/apt</td>\n",
       "      <td>136.0</td>\n",
       "      <td>4</td>\n",
       "      <td>46</td>\n",
       "      <td>2024-02-15</td>\n",
       "      <td>0.40</td>\n",
       "      <td>1</td>\n",
       "      <td>2</td>\n",
       "      <td>3</td>\n",
       "    </tr>\n",
       "    <tr>\n",
       "      <th>59</th>\n",
       "      <td>106372</td>\n",
       "      <td>Carnaval &amp; Rock in Rio !!!</td>\n",
       "      <td>551316</td>\n",
       "      <td>Katia</td>\n",
       "      <td>Barra da Tijuca</td>\n",
       "      <td>-23.00744</td>\n",
       "      <td>-43.43045</td>\n",
       "      <td>Entire home/apt</td>\n",
       "      <td>731.0</td>\n",
       "      <td>4</td>\n",
       "      <td>9</td>\n",
       "      <td>2022-09-11</td>\n",
       "      <td>0.09</td>\n",
       "      <td>1</td>\n",
       "      <td>362</td>\n",
       "      <td>0</td>\n",
       "    </tr>\n",
       "    <tr>\n",
       "      <th>60</th>\n",
       "      <td>278679</td>\n",
       "      <td>5 min a pé - Praia de Copacabana, Metrô, WiFi II</td>\n",
       "      <td>449677</td>\n",
       "      <td>Renato / Louri</td>\n",
       "      <td>Copacabana</td>\n",
       "      <td>-22.98069</td>\n",
       "      <td>-43.19277</td>\n",
       "      <td>Entire home/apt</td>\n",
       "      <td>199.0</td>\n",
       "      <td>6</td>\n",
       "      <td>55</td>\n",
       "      <td>2024-05-08</td>\n",
       "      <td>0.36</td>\n",
       "      <td>6</td>\n",
       "      <td>96</td>\n",
       "      <td>13</td>\n",
       "    </tr>\n",
       "    <tr>\n",
       "      <th>61</th>\n",
       "      <td>107469</td>\n",
       "      <td>Quarto confortável com vista panorâmica</td>\n",
       "      <td>556738</td>\n",
       "      <td>Casa Da Carmen E</td>\n",
       "      <td>Santa Teresa</td>\n",
       "      <td>-22.91889</td>\n",
       "      <td>-43.18038</td>\n",
       "      <td>Private room</td>\n",
       "      <td>59.0</td>\n",
       "      <td>60</td>\n",
       "      <td>2</td>\n",
       "      <td>2018-12-21</td>\n",
       "      <td>0.02</td>\n",
       "      <td>5</td>\n",
       "      <td>31</td>\n",
       "      <td>0</td>\n",
       "    </tr>\n",
       "  </tbody>\n",
       "</table>\n",
       "<p>62 rows × 16 columns</p>\n",
       "</div>"
      ],
      "text/plain": [
       "        id                                               Nome  Id do host  \\\n",
       "0    17878  Very Nice 2Br in Copacabana w. balcony, fast WiFi       68997   \n",
       "1   220377                   Suíte Casal (banheiro privativo)     1142424   \n",
       "2    25026          Beautiful Modern Decorated Studio in Copa      102840   \n",
       "3    35764    COPACABANA SEA BREEZE  -  RIO - 25  X Superhost      153691   \n",
       "4   223073          Modern Loft 1 • Ipanema Posto 9 • 500  mb      503995   \n",
       "..     ...                                                ...         ...   \n",
       "57   99971                Right in front of the beach in Rio!      525976   \n",
       "58  274116  Comfortable apart in Santa Teresa - Rio de Jan...     1433502   \n",
       "59  106372                         Carnaval & Rock in Rio !!!      551316   \n",
       "60  278679   5 min a pé - Praia de Copacabana, Metrô, WiFi II      449677   \n",
       "61  107469            Quarto confortável com vista panorâmica      556738   \n",
       "\n",
       "                Nome do host           Bairro  Latitude  Longitude  \\\n",
       "0                   Matthias       Copacabana -22.96599  -43.17940   \n",
       "1                    Taciana           Tijuca -22.92880  -43.24046   \n",
       "2                    Viviane       Copacabana -22.97735  -43.19105   \n",
       "3   Patricia Miranda & Paulo       Copacabana -22.98107  -43.19136   \n",
       "4                 ❤️ BrUx ❤️          Ipanema -22.98280  -43.20467   \n",
       "..                       ...              ...       ...        ...   \n",
       "57                   Ricardo           Leblon -22.98812  -43.22897   \n",
       "58                  Norberto     Santa Teresa -22.91984  -43.18650   \n",
       "59                     Katia  Barra da Tijuca -23.00744  -43.43045   \n",
       "60            Renato / Louri       Copacabana -22.98069  -43.19277   \n",
       "61          Casa Da Carmen E     Santa Teresa -22.91889  -43.18038   \n",
       "\n",
       "   Tipo de acomodação  Preço  Minimo de noites  Numeros de avaliações  \\\n",
       "0     Entire home/apt  310.0                 5                    319   \n",
       "1        Private room  220.0                 1                      5   \n",
       "2     Entire home/apt  203.0                 2                    291   \n",
       "3     Entire home/apt  201.0                 3                    476   \n",
       "4     Entire home/apt  321.0                 1                    471   \n",
       "..                ...    ...               ...                    ...   \n",
       "57    Entire home/apt  273.0                 3                    165   \n",
       "58    Entire home/apt  136.0                 4                     46   \n",
       "59    Entire home/apt  731.0                 4                      9   \n",
       "60    Entire home/apt  199.0                 6                     55   \n",
       "61       Private room   59.0                60                      2   \n",
       "\n",
       "   Ultima avaliação  Avaliações mensais  Listagens  Disponibilidade anual  \\\n",
       "0        2024-06-08                1.88          1                    274   \n",
       "1        2024-03-28                0.03          3                    283   \n",
       "2        2024-06-02                1.70          1                    241   \n",
       "3        2024-06-25                2.85          1                     93   \n",
       "4        2024-06-02                3.04          7                    348   \n",
       "..              ...                 ...        ...                    ...   \n",
       "57       2024-04-29                1.05          1                    327   \n",
       "58       2024-02-15                0.40          1                      2   \n",
       "59       2022-09-11                0.09          1                    362   \n",
       "60       2024-05-08                0.36          6                     96   \n",
       "61       2018-12-21                0.02          5                     31   \n",
       "\n",
       "    Numero de avaliações anuais  \n",
       "0                            23  \n",
       "1                             1  \n",
       "2                            23  \n",
       "3                            36  \n",
       "4                            17  \n",
       "..                          ...  \n",
       "57                           23  \n",
       "58                            3  \n",
       "59                            0  \n",
       "60                           13  \n",
       "61                            0  \n",
       "\n",
       "[62 rows x 16 columns]"
      ]
     },
     "execution_count": 23,
     "metadata": {},
     "output_type": "execute_result"
    }
   ],
   "source": [
    "df_dados.head(62)"
   ]
  },
  {
   "cell_type": "code",
   "execution_count": 24,
   "metadata": {},
   "outputs": [],
   "source": [
    "df_dados.to_csv(\"Projeto_airbnb_rj_tratadoII.csv\",index=False)"
   ]
  },
  {
   "cell_type": "markdown",
   "metadata": {},
   "source": [
    "## Análise dos dados"
   ]
  },
  {
   "cell_type": "code",
   "execution_count": 25,
   "metadata": {},
   "outputs": [
    {
     "name": "stdout",
     "output_type": "stream",
     "text": [
      "Bairro\n",
      "Copacabana                  10783\n",
      "Ipanema                      3299\n",
      "Barra da Tijuca              3242\n",
      "Recreio dos Bandeirantes     1730\n",
      "Leblon                       1622\n",
      "                            ...  \n",
      "Caju                            1\n",
      "Zumbi                           1\n",
      "Deodoro                         1\n",
      "Parada de Lucas                 1\n",
      "Manguinhos                      1\n",
      "Name: count, Length: 152, dtype: int64\n"
     ]
    }
   ],
   "source": [
    "#Somando o total de acomodações em todos os bairros\n",
    "contagem_bairros = df_dados[\"Bairro\"].value_counts()\n",
    "print (contagem_bairros)"
   ]
  },
  {
   "cell_type": "code",
   "execution_count": 26,
   "metadata": {},
   "outputs": [
    {
     "name": "stdout",
     "output_type": "stream",
     "text": [
      "Bairro\n",
      "Copacabana                  10783\n",
      "Ipanema                      3299\n",
      "Barra da Tijuca              3242\n",
      "Recreio dos Bandeirantes     1730\n",
      "Leblon                       1622\n",
      "Jacarepaguá                  1541\n",
      "Botafogo                     1466\n",
      "Centro                       1311\n",
      "Santa Teresa                 1116\n",
      "Flamengo                      795\n",
      "Name: count, dtype: int64\n"
     ]
    }
   ],
   "source": [
    "# Obter os 10 maiores valores da Serie \n",
    "top_10 = contagem_bairros.nlargest (10, keep='all')\n",
    "\n",
    "print(top_10)"
   ]
  },
  {
   "cell_type": "code",
   "execution_count": 27,
   "metadata": {},
   "outputs": [],
   "source": [
    "import matplotlib.pyplot as plt \n",
    "import seaborn as sns"
   ]
  },
  {
   "cell_type": "code",
   "execution_count": 28,
   "metadata": {},
   "outputs": [
    {
     "name": "stdout",
     "output_type": "stream",
     "text": [
      "\n",
      "Preço médio total: 731.18295638126\n"
     ]
    }
   ],
   "source": [
    "#Qual a média dos preços e a variação por bairro?\n",
    "\n",
    "\n",
    "#Antes vamos saber o preço médio total\n",
    "# Calculando preço médio total\n",
    "preco_medio_total = df_dados['Preço'].mean()\n",
    "print(\"\\nPreço médio total:\", preco_medio_total)"
   ]
  },
  {
   "cell_type": "code",
   "execution_count": 29,
   "metadata": {},
   "outputs": [
    {
     "name": "stdout",
     "output_type": "stream",
     "text": [
      "Bairro\n",
      "Abolição              557.500000\n",
      "Alto da Boa Vista    1319.875000\n",
      "Anchieta             1876.666667\n",
      "Andaraí               295.042553\n",
      "Anil                  549.959184\n",
      "                        ...     \n",
      "Vila Militar          227.666667\n",
      "Vila Valqueire        367.400000\n",
      "Vila da Penha         250.857143\n",
      "Zumbi                 115.000000\n",
      "Água Santa            731.000000\n",
      "Name: Preço, Length: 152, dtype: float64\n"
     ]
    }
   ],
   "source": [
    "#Agora o preço médio por bairro\n",
    "\n",
    "# Agrupar por 'bairro' e calcular o preço médio de cada grupo\n",
    "preco_medio_por_bairro = df_dados.groupby('Bairro')['Preço'].mean()\n",
    "\n",
    "# Exibir o resultado\n",
    "print(preco_medio_por_bairro)"
   ]
  },
  {
   "cell_type": "code",
   "execution_count": 30,
   "metadata": {},
   "outputs": [],
   "source": [
    "#transformando a coluna Preco em tipo numérico\n",
    "df_dados['Preço'] = pd.to_numeric(df_dados['Preço'], errors='coerce')"
   ]
  },
  {
   "cell_type": "code",
   "execution_count": 31,
   "metadata": {},
   "outputs": [
    {
     "name": "stdout",
     "output_type": "stream",
     "text": [
      "                          count       Preço\n",
      "Bairro                                     \n",
      "Copacabana                10783  624.492998\n",
      "Ipanema                    3299  827.786905\n",
      "Barra da Tijuca            3242  965.269278\n",
      "Recreio dos Bandeirantes   1730  636.327746\n",
      "Leblon                     1622  918.356967\n",
      "Jacarepaguá                1541  585.137573\n",
      "Botafogo                   1466  469.556617\n",
      "Centro                     1311  315.225019\n",
      "Santa Teresa               1116  475.545699\n",
      "Flamengo                    795  440.638994\n"
     ]
    }
   ],
   "source": [
    "#Calculando o preço médio dos 10 bairros com mais acomodaçoes\n",
    "resultado = pd.merge(top_10, preco_medio_por_bairro, on='Bairro')\n",
    "print(resultado)"
   ]
  },
  {
   "cell_type": "code",
   "execution_count": 32,
   "metadata": {},
   "outputs": [
    {
     "name": "stdout",
     "output_type": "stream",
     "text": [
      "                          count       Preço\n",
      "Bairro                                     \n",
      "Barra da Tijuca            3242  965.269278\n",
      "Leblon                     1622  918.356967\n",
      "Ipanema                    3299  827.786905\n",
      "Recreio dos Bandeirantes   1730  636.327746\n",
      "Copacabana                10783  624.492998\n",
      "Jacarepaguá                1541  585.137573\n",
      "Santa Teresa               1116  475.545699\n",
      "Botafogo                   1466  469.556617\n",
      "Flamengo                    795  440.638994\n",
      "Centro                     1311  315.225019\n"
     ]
    }
   ],
   "source": [
    "#Ordenando os bairros com valores médios mais altos\n",
    "resultado_ordenado = resultado.sort_values(by='Preço', ascending=False)\n",
    "print(resultado_ordenado)"
   ]
  },
  {
   "cell_type": "code",
   "execution_count": 33,
   "metadata": {},
   "outputs": [
    {
     "data": {
      "image/png": "[encoded data removed]",
      "text/plain": [
       "<Figure size 1000x600 with 1 Axes>"
      ]
     },
     "metadata": {},
     "output_type": "display_data"
    }
   ],
   "source": [
    "plt.figure(figsize=(10, 6))\n",
    "sns.barplot(x='Bairro', y='Preço', data=resultado_ordenado)\n",
    "plt.axhline(preco_medio_total, color='red', linestyle='--', label='Preço Médio Total') #média de preços total\n",
    "plt.xlabel('Bairros')\n",
    "plt.ylabel('Preço Médio')\n",
    "plt.title('Preço Médio das Acomodações por Bairro X Preço Médio Total')\n",
    "plt.xticks(rotation=80)\n",
    "plt.show()"
   ]
  },
  {
   "cell_type": "code",
   "execution_count": 34,
   "metadata": {},
   "outputs": [
    {
     "data": {
      "image/png": "[encoded data removed]",
      "text/plain": [
       "<Figure size 1000x600 with 1 Axes>"
      ]
     },
     "metadata": {},
     "output_type": "display_data"
    }
   ],
   "source": [
    "#Qual bairro tem mais disponibilidade de Airbnb?\n",
    "\n",
    "plt.figure(figsize=(10, 6))\n",
    "sns.barplot(x='Bairro', y='count', data=resultado_ordenado, color='#6A5ACD')\n",
    "plt.xlabel('Bairros')\n",
    "plt.ylabel('count')\n",
    "plt.title('Quantidade de Acomodações por Bairro')\n",
    "plt.xticks(rotation=80)\n",
    "plt.show()"
   ]
  },
  {
   "cell_type": "code",
   "execution_count": 35,
   "metadata": {},
   "outputs": [
    {
     "data": {
      "image/png": "[encoded data removed]",
      "text/plain": [
       "<Figure size 1200x600 with 1 Axes>"
      ]
     },
     "metadata": {},
     "output_type": "display_data"
    }
   ],
   "source": [
    "#A quantidae de Airbnb por bairro influencia no preço da acomodação?\n",
    "\n",
    "# Dados \n",
    "bairros = ['Barra da Tijuca','Leblon','Ipanema','Recreio dos Bandeirantes','Copacabana','Jacarepaguá','Santa Teresa','Botafogo','Flamengo','Centro']\n",
    "contagem = [3242,1622,3299,1730,10783,1541,1116,1466,795,1311]\n",
    "precos = [965.274954, 918.362762, 827.791331, 636.331908, 624.498210, 585.144711, 475.548387, 469.564120, 440.642516, 315.228528]\n",
    "\n",
    "largura_barra = 0.5\n",
    "espacamento = 0.2\n",
    "posicao1 = np.arange(len(bairros))* (largura_barra * 2 + espacamento)\n",
    "posicao2 = [p + largura_barra for p in posicao1]\n",
    "\n",
    "# Criar o gráfico\n",
    "plt.figure(figsize=(12, 6))\n",
    "plt.bar(posicao1, contagem, width=largura_barra, label='Quantidade de acomodações')\n",
    "plt.bar(posicao2, precos, width=largura_barra, label='Preço médio')\n",
    "\n",
    "# Rotulos\n",
    "plt.xlabel('Bairros')\n",
    "plt.ylabel('Valores')\n",
    "plt.title('Comparação Distribuição X Preço Médio por Bairro')\n",
    "plt.xticks([p + largura_barra/2 for p in posicao1], bairros, rotation=90)\n",
    "\n",
    "\n",
    "plt.legend()\n",
    "plt.show()\n",
    "\n"
   ]
  },
  {
   "cell_type": "code",
   "execution_count": 36,
   "metadata": {},
   "outputs": [
    {
     "name": "stdout",
     "output_type": "stream",
     "text": [
      "Tipo de acomodação\n",
      "Entire home/apt    27383\n",
      "Private room        6643\n",
      "Shared room          613\n",
      "Hotel room            25\n",
      "Name: count, dtype: int64\n"
     ]
    }
   ],
   "source": [
    "#Somando o total de acomodações em todos os bairros\n",
    "tipo_acomodação = df_dados[\"Tipo de acomodação\"].value_counts()\n",
    "print (tipo_acomodação)"
   ]
  },
  {
   "cell_type": "code",
   "execution_count": 37,
   "metadata": {},
   "outputs": [
    {
     "data": {
      "image/png": "[encoded data removed]",
      "text/plain": [
       "<Figure size 1200x700 with 1 Axes>"
      ]
     },
     "metadata": {},
     "output_type": "display_data"
    }
   ],
   "source": [
    "# Obter os dados de contagem do tipo de acomodação\n",
    "tipo_acomodacao = df_dados[\"Tipo de acomodação\"].value_counts()\n",
    "\n",
    "# Criar o gráfico de pizza\n",
    "plt.figure(figsize=(12, 7))\n",
    "\n",
    "# Definindo o gráfico de pizza sem rótulos nas fatias\n",
    "plt.pie(tipo_acomodacao, labels=None, startangle=65, \n",
    "        colors=sns.color_palette(\"pastel\"))   \n",
    "\n",
    "# Adicionar uma legenda com as porcentagens\n",
    "# A lista de porcentagens para a legenda\n",
    "porcentagens = [f'{label}: {val} ({val / tipo_acomodacao.sum() * 100:.1f}%)' \n",
    "                for label, val in zip(tipo_acomodacao.index, tipo_acomodacao)]\n",
    "plt.legend(porcentagens, title=\"Tipo de Acomodação\", loc=\"lower right\", bbox_to_anchor=(1.4, 0))\n",
    "\n",
    "# Adicionar título\n",
    "plt.title('Distribuição dos Tipos de Acomodação')\n",
    "\n",
    "# Mostrar o gráfico\n",
    "plt.show()\n",
    "\n"
   ]
  },
  {
   "cell_type": "code",
   "execution_count": 38,
   "metadata": {},
   "outputs": [
    {
     "name": "stdout",
     "output_type": "stream",
     "text": [
      "Tipo de acomodação\n",
      "Entire home/apt    3.850272\n",
      "Hotel room         1.320000\n",
      "Private room       3.101460\n",
      "Shared room        2.629690\n",
      "Name: Minimo de noites, dtype: float64\n"
     ]
    }
   ],
   "source": [
    "# Agrupar por 'bairro' e calcular a média de noites exigidas em cada grupo\n",
    "media_noite_exigida = df_dados.groupby('Tipo de acomodação')['Minimo de noites'].mean()\n",
    "\n",
    "# Exibir o resultado\n",
    "print(media_noite_exigida)"
   ]
  },
  {
   "cell_type": "code",
   "execution_count": 39,
   "metadata": {},
   "outputs": [
    {
     "name": "stdout",
     "output_type": "stream",
     "text": [
      "Tipo de acomodação\n",
      "Entire home/apt    9129\n",
      "Private room       1529\n",
      "Shared room         124\n",
      "Hotel room            1\n",
      "Name: count, dtype: int64\n"
     ]
    }
   ],
   "source": [
    "# Filtrar apenas as acomodações em Copacabana\n",
    "copacabana_acomodações = df_dados[df_dados['Bairro'] == 'Copacabana']\n",
    "\n",
    "# Contar o número de cada tipo de acomodação\n",
    "tipo_count = copacabana_acomodações['Tipo de acomodação'].value_counts()\n",
    "\n",
    "# Exibir os resultados\n",
    "print(tipo_count)"
   ]
  },
  {
   "cell_type": "code",
   "execution_count": 40,
   "metadata": {},
   "outputs": [
    {
     "name": "stdout",
     "output_type": "stream",
     "text": [
      "O host com mais avaliaçõs tem: 674\n"
     ]
    }
   ],
   "source": [
    "#Qual host apresenta mais numeros de feedbacks?\n",
    "\n",
    "maximoavaliações = df_dados[\"Numeros de avaliações\"].max()\n",
    "\n",
    "print(\"O host com mais avaliaçõs tem:\",maximoavaliações )\n",
    "\n"
   ]
  },
  {
   "cell_type": "code",
   "execution_count": 41,
   "metadata": {},
   "outputs": [
    {
     "name": "stdout",
     "output_type": "stream",
     "text": [
      "                                               Nome      Bairro  \\\n",
      "3154  COPACABANA,PRAIA/METRO,MELHOR CUSTO BENEFÍCIO  Copacabana   \n",
      "\n",
      "     Tipo de acomodação  Preço  \n",
      "3154       Private room   98.0  \n"
     ]
    }
   ],
   "source": [
    "#Que host é esse, onde esta situado, qual o tipo de acomodação e o preço?\n",
    "\n",
    "# Retorna todas as linhas com o valor máximo encontrado\n",
    "linhas_max_avaliações = df_dados[df_dados[\"Numeros de avaliações\"] == maximoavaliações]\n",
    "\n",
    "print(linhas_max_avaliações[[\"Nome\", \"Bairro\",\"Tipo de acomodação\",\"Preço\"]])"
   ]
  },
  {
   "cell_type": "code",
   "execution_count": 42,
   "metadata": {},
   "outputs": [
    {
     "name": "stdout",
     "output_type": "stream",
     "text": [
      "        Bairro  Minimo de noites  Preço\n",
      "5075  Cachambi                80   33.0\n"
     ]
    }
   ],
   "source": [
    "#Qual host é o mais barato?\n",
    "\n",
    "# Filtra os preços maiores que 0\n",
    "df_dados_sem_zero = df_dados[df_dados[\"Preço\"]> 0]\n",
    "\n",
    "# Encontra o menor valor de preço diferente de 0\n",
    "maisbarato = df_dados_sem_zero[\"Preço\"].min()\n",
    "\n",
    "# Retorna as informações do host com o menor preço\n",
    "host_mais_barato = df_dados_sem_zero[df_dados_sem_zero[\"Preço\"] == maisbarato]\n",
    "\n",
    "# Exibe o bairro e o número mínimo de noites\n",
    "print(host_mais_barato[[\"Bairro\", \"Minimo de noites\", \"Preço\"]])\n"
   ]
  },
  {
   "cell_type": "code",
   "execution_count": 43,
   "metadata": {},
   "outputs": [
    {
     "name": "stdout",
     "output_type": "stream",
     "text": [
      "             Bairro  Minimo de noites     Preço\n",
      "4548  São Cristóvão                 6  633125.0\n"
     ]
    }
   ],
   "source": [
    "#Qual host é o mais caro?\n",
    "\n",
    "# Filtra os preços maiores que 0\n",
    "df_dados_sem_zero = df_dados[df_dados[\"Preço\"] > 0]\n",
    "\n",
    "# Encontra o menor valor de preço diferente de 0\n",
    "maiscaro = df_dados_sem_zero[\"Preço\"].max()\n",
    "\n",
    "# Retorna as informações do host com o menor preço\n",
    "host_mais_caro = df_dados_sem_zero[df_dados_sem_zero[\"Preço\"] == maiscaro]\n",
    "\n",
    "# Exibe o bairro e o número mínimo de noites\n",
    "print(host_mais_caro[[\"Bairro\", \"Minimo de noites\", \"Preço\"]])"
   ]
  },
  {
   "cell_type": "markdown",
   "metadata": {},
   "source": [
    "Percebe-se que tem algum erro na disposição do dado, deixando a analise incerta! O preço é exorbitante no host mais caro e exige muitas noites de locação no host mais barato."
   ]
  },
  {
   "cell_type": "code",
   "execution_count": 44,
   "metadata": {},
   "outputs": [],
   "source": [
    "df_backup_projetoI = df_dados.copy() #backup (salvamento do documento)"
   ]
  },
  {
   "cell_type": "markdown",
   "metadata": {},
   "source": [
    "# Teste para saber se o número de avaliações interfere na média de preços  \n",
    "\n",
    "Hipotese Nula HO: A média de preço não é influenciada pelo número de avaliações das acomodações.\n",
    "Hipotese Alternativa H1:  A quantidade de avaliações das acomodações interfere na média de preço."
   ]
  },
  {
   "cell_type": "code",
   "execution_count": 48,
   "metadata": {},
   "outputs": [
    {
     "name": "stdout",
     "output_type": "stream",
     "text": [
      "Coeficiente de Correlação: -0.03205426667924955\n",
      "Valor P: 2.383193786694373e-09\n",
      "Rejeitamos a hipótese nula: Existe uma correlação significativa entre o número de avaliações e o preço médio.\n"
     ]
    }
   ],
   "source": [
    "from scipy.stats import pearsonr\n",
    "\n",
    "# Obter as colunas necessárias\n",
    "num_avaliacoes = df_dados['Numeros de avaliações']\n",
    "preco_medio = df_dados['Preço']\n",
    "\n",
    "# Calcular a correlação de Pearson\n",
    "correlacao, valor_p_corr = pearsonr(num_avaliacoes, preco_medio)\n",
    "print(f\"Coeficiente de Correlação: {correlacao}\")\n",
    "print(f\"Valor P: {valor_p_corr}\")\n",
    "\n",
    "# Interpretação\n",
    "if valor_p_corr < 0.05:\n",
    "    print(\"Rejeitamos a hipótese nula: Existe uma correlação significativa entre o número de avaliações e o preço médio.\")\n",
    "else:\n",
    "    print(\"Não rejeitamos a hipótese nula: Não há correlação significativa entre o número de avaliações e o preço médio.\")\n"
   ]
  },
  {
   "cell_type": "code",
   "execution_count": 50,
   "metadata": {},
   "outputs": [
    {
     "data": {
      "image/png": "[encoded data removed]",
      "text/plain": [
       "<Figure size 640x480 with 1 Axes>"
      ]
     },
     "metadata": {},
     "output_type": "display_data"
    }
   ],
   "source": [
    "import seaborn as sns\n",
    "import matplotlib.pyplot as plt\n",
    "\n",
    "# Gráfico de dispersão com linha de regressão\n",
    "sns.regplot(x='Numeros de avaliações', y='Preço', data=df_dados, scatter_kws={\"color\": \"blue\"}, line_kws={\"color\": \"red\"})\n",
    "\n",
    "# Títulos e rótulos\n",
    "plt.title(\"Relação entre o Número de Avaliações e o Preço\")\n",
    "plt.xlabel(\"Número de Avaliações\")\n",
    "plt.ylabel(\"Preço\")\n",
    "plt.show()\n"
   ]
  },
  {
   "cell_type": "code",
   "execution_count": null,
   "metadata": {},
   "outputs": [],
   "source": [
    "#Relação Linear Insignificante: Os resultados (Coeficiente de Correlação:-0.032 e e a linha de regressão horizontal no gráfico) sugerem que não há uma relação linear significativa entre o número de avaliações \n",
    "# e o preço médio, apesar de a análise estatística indicar uma correlação \"significativa\". Concluindo que a analise final dar-se pela presença de Outliers na base de dados."
   ]
  }
 ],
 "metadata": {
  "kernelspec": {
   "display_name": "Python 3",
   "language": "python",
   "name": "python3"
  },
  "language_info": {
   "codemirror_mode": {
    "name": "ipython",
    "version": 3
   },
   "file_extension": ".py",
   "mimetype": "text/x-python",
   "name": "python",
   "nbconvert_exporter": "python",
   "pygments_lexer": "ipython3",
   "version": "3.12.3"
  }
 },
 "nbformat": 4,
 "nbformat_minor": 2
}
